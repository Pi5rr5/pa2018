{
 "cells": [
  {
   "cell_type": "code",
   "execution_count": 7,
   "metadata": {},
   "outputs": [],
   "source": [
    "import numpy as np\n",
    "from sklearn import linear_model"
   ]
  },
  {
   "cell_type": "code",
   "execution_count": 8,
   "metadata": {},
   "outputs": [],
   "source": [
    "data = np.genfromtxt('inputs_keras.csv', delimiter=\",\", skip_header=1, dtype=float)\n",
    "np.random.shuffle(data)\n",
    "inputs = data[0:, 0:20].astype('float32')\n",
    "outputs = data[0:, 20:21].astype(int)\n",
    "\n",
    "inputs_train = inputs[0:int(inputs.shape[0] * 0.8)]\n",
    "outputs_train = outputs[0:int(outputs.shape[0] * 0.8)]\n",
    "outputs_train.shape = (outputs_train.shape[0],)\n",
    "\n",
    "inputs_test = inputs[int(inputs.shape[0] * 0.8):inputs.shape[0]]\n",
    "outputs_test = outputs[int(outputs.shape[0] * 0.8):outputs.shape[0]]\n",
    "outputs_test.shape = (outputs_test.shape[0],)"
   ]
  },
  {
   "cell_type": "code",
   "execution_count": 9,
   "metadata": {},
   "outputs": [
    {
     "name": "stderr",
     "output_type": "stream",
     "text": [
      "C:\\Users\\piesimon\\AppData\\Local\\Continuum\\anaconda3\\envs\\tensorflowlatest\\lib\\site-packages\\sklearn\\linear_model\\stochastic_gradient.py:128: FutureWarning: max_iter and tol parameters have been added in <class 'sklearn.linear_model.stochastic_gradient.SGDClassifier'> in 0.19. If both are left unset, they default to max_iter=5 and tol=None. If tol is not None, max_iter defaults to max_iter=1000. From 0.21, default max_iter will be 1000, and default tol will be 1e-3.\n",
      "  \"and default tol will be 1e-3.\" % type(self), FutureWarning)\n"
     ]
    }
   ],
   "source": [
    "clf = linear_model.SGDClassifier()\n",
    "clf.fit(inputs_train, outputs_train)\n",
    "precision = clf.score(inputs_test, outputs_test) * 100"
   ]
  },
  {
   "cell_type": "code",
   "execution_count": 10,
   "metadata": {},
   "outputs": [
    {
     "name": "stdout",
     "output_type": "stream",
     "text": [
      "Precision= 57.73%\n"
     ]
    }
   ],
   "source": [
    "print(\"Precision= {:0.2f}%\".format(precision))"
   ]
  },
  {
   "cell_type": "code",
   "execution_count": null,
   "metadata": {},
   "outputs": [],
   "source": []
  }
 ],
 "metadata": {
  "kernelspec": {
   "display_name": "Python 3",
   "language": "python",
   "name": "python3"
  },
  "language_info": {
   "codemirror_mode": {
    "name": "ipython",
    "version": 3
   },
   "file_extension": ".py",
   "mimetype": "text/x-python",
   "name": "python",
   "nbconvert_exporter": "python",
   "pygments_lexer": "ipython3",
   "version": "3.6.5"
  }
 },
 "nbformat": 4,
 "nbformat_minor": 2
}
