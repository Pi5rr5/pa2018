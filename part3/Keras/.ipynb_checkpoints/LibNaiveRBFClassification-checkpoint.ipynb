{
 "cells": [
  {
   "cell_type": "code",
   "execution_count": 1,
   "metadata": {},
   "outputs": [],
   "source": [
    "from cffi import FFI\n",
    "import numpy as np"
   ]
  },
  {
   "cell_type": "code",
   "execution_count": 2,
   "metadata": {},
   "outputs": [],
   "source": [
    "ffi = FFI()\n",
    "C = ffi.dlopen(\"../../part2/Unity_dll/x64/Debug/Unity_dll.dll\")\n",
    "ffi.cdef(\"\"\"\n",
    "    float* trainNaiveRBF(float*, int, int, float*, int, int, float);\n",
    "    float naiveRBFRegression(float*, int, int, float*, int, int, float*, int, int, float);\n",
    "\"\"\")\n",
    "\n",
    "def as_pointer(numpy_array):\n",
    "    return ffi.cast(\"float*\", numpy_array.__array_interface__['data'][0])"
   ]
  },
  {
   "cell_type": "code",
   "execution_count": 3,
   "metadata": {},
   "outputs": [],
   "source": [
    "# import data from csv\n",
    "data = np.genfromtxt('inputs.csv', delimiter=\",\", skip_header=1, dtype=float)\n",
    "# shuffle data set\n",
    "np.random.shuffle(data)\n",
    "# split inputs & outputs\n",
    "inputs = data[0:, 0:20].astype('float32')\n",
    "outputs = data[0:, 20:21].astype(int)\n",
    "# split train and test data set\n",
    "inputs_train = inputs[0:int(inputs.shape[0] * 0.8)]\n",
    "outputs_train = outputs[0:int(outputs.shape[0] * 0.8)]\n",
    "\n",
    "inputs_test = inputs[int(inputs.shape[0] * 0.8):inputs.shape[0]]\n",
    "outputs_test = outputs[int(outputs.shape[0] * 0.8):outputs.shape[0]]"
   ]
  },
  {
   "cell_type": "code",
   "execution_count": 4,
   "metadata": {},
   "outputs": [],
   "source": [
    "gamma = 0.001"
   ]
  },
  {
   "cell_type": "code",
   "execution_count": null,
   "metadata": {},
   "outputs": [
    {
     "name": "stdout",
     "output_type": "stream",
     "text": [
      "Training model ...\n"
     ]
    }
   ],
   "source": [
    "print(\"Training model ...\")\n",
    "model = C.trainNaiveRBF(as_pointer(inputs_train), inputs_train.shape[0], inputs_train.shape[1],\n",
    "                        as_pointer(outputs_train), outputs_train.shape[0], outputs_train.shape[1],\n",
    "                        gamma)"
   ]
  },
  {
   "cell_type": "code",
   "execution_count": null,
   "metadata": {},
   "outputs": [],
   "source": [
    "precision = 0\n",
    "for i, val in enumerate(inputs_test):\n",
    "    res = C.naiveRBFRegression(as_pointer(inputs_train), inputs_train.shape[0], inputs_train.shape[1],\n",
    "                               as_pointer(inputs_test[i]), 1, 20,\n",
    "                               model, inputs_train.shape[0], inputs_train.shape[0],\n",
    "                               gamma)\n",
    "    if (round(res) > 0) == outputs_test[i]:\n",
    "        precision += 1\n",
    "print(\"precision after training = {:0.2f}%\".format((precision/inputs_test.shape[0])*100))"
   ]
  },
  {
   "cell_type": "code",
   "execution_count": null,
   "metadata": {},
   "outputs": [],
   "source": []
  }
 ],
 "metadata": {
  "kernelspec": {
   "display_name": "Python 3",
   "language": "python",
   "name": "python3"
  },
  "language_info": {
   "codemirror_mode": {
    "name": "ipython",
    "version": 3
   },
   "file_extension": ".py",
   "mimetype": "text/x-python",
   "name": "python",
   "nbconvert_exporter": "python",
   "pygments_lexer": "ipython3",
   "version": "3.6.5"
  }
 },
 "nbformat": 4,
 "nbformat_minor": 2
}
