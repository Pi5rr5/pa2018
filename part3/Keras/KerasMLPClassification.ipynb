{
 "cells": [
  {
   "cell_type": "markdown",
   "metadata": {},
   "source": [
    "# ʘ‿ʘ"
   ]
  },
  {
   "cell_type": "code",
   "execution_count": 5,
   "metadata": {},
   "outputs": [],
   "source": [
    "import keras\n",
    "from keras.metrics import binary_accuracy\n",
    "from keras.models import Sequential\n",
    "from keras.layers import Dense, Dropout\n",
    "import numpy as np\n",
    "from keras.optimizers import sgd, rmsprop, adam\n",
    "from trainValTensorBoard import TrainValTensorBoard\n",
    "from keras_tqdm import TQDMNotebookCallback"
   ]
  },
  {
   "cell_type": "code",
   "execution_count": 14,
   "metadata": {},
   "outputs": [],
   "source": [
    "data = np.genfromtxt('inputs_keras.csv', delimiter=\",\", skip_header=1, dtype=float)\n",
    "np.random.shuffle(data)\n",
    "inputs = data[0:, 0:20].astype('float32')\n",
    "outputs = data[0:, 20:21].astype(int)\n",
    "\n",
    "x_train = inputs[0: round(inputs.shape[0]*0.8)]\n",
    "y_train = outputs[0: round(inputs.shape[0]*0.8)]\n",
    "x_test = inputs[round(inputs.shape[0]*0.8): inputs.shape[0]]\n",
    "y_test = outputs[round(inputs.shape[0]*0.8): inputs.shape[0]]"
   ]
  },
  {
   "cell_type": "code",
   "execution_count": 15,
   "metadata": {},
   "outputs": [],
   "source": [
    "model = Sequential()\n",
    "model.add(Dense(20, input_dim=20, activation='tanh'))\n",
    "model.add(Dense(1, activation='sigmoid'))\n",
    "model.compile(loss='binary_crossentropy', optimizer=adam(), metrics=[binary_accuracy])"
   ]
  },
  {
   "cell_type": "code",
   "execution_count": 16,
   "metadata": {},
   "outputs": [
    {
     "data": {
      "text/plain": [
       "<keras.callbacks.History at 0x1b49871edd8>"
      ]
     },
     "execution_count": 16,
     "metadata": {},
     "output_type": "execute_result"
    }
   ],
   "source": [
    "model.fit(x_train, y_train,\n",
    "          validation_split=0.2,\n",
    "          epochs=100,\n",
    "          batch_size=96,\n",
    "          verbose=0)"
   ]
  },
  {
   "cell_type": "code",
   "execution_count": 17,
   "metadata": {},
   "outputs": [
    {
     "name": "stdout",
     "output_type": "stream",
     "text": [
      "3168/3168 [==============================] - ETA:  - ETA:  - 0s 25us/step\n",
      "[0.2959458548011202, 0.9113005056525721]\n"
     ]
    }
   ],
   "source": [
    "score = model.evaluate(inputs, outputs, verbose=1, batch_size=96)\n",
    "print(score)"
   ]
  },
  {
   "cell_type": "code",
   "execution_count": 18,
   "metadata": {},
   "outputs": [
    {
     "name": "stdout",
     "output_type": "stream",
     "text": [
      "{0: 1584, 1: 1584}\n"
     ]
    }
   ],
   "source": [
    "unique, counts = np.unique(outputs, return_counts=True)\n",
    "train_repartition = dict(zip(unique, counts))\n",
    "print(train_repartition)"
   ]
  },
  {
   "cell_type": "code",
   "execution_count": 19,
   "metadata": {},
   "outputs": [
    {
     "name": "stdout",
     "output_type": "stream",
     "text": [
      "precision = 91.16719242902208%\n"
     ]
    }
   ],
   "source": [
    "predictions = model.predict(x_test)\n",
    "rounded = [round(x[0]) for x in predictions]\n",
    "precision = 0\n",
    "for j, i in enumerate(rounded):\n",
    "    if i == y_test[j]:\n",
    "        precision += 1\n",
    "    # print(\"prediction: {} || {} :output\".format(i, test_y[j]))\n",
    "precision = precision/y_test.shape[0] * 100\n",
    "print(\"precision = {}%\".format(precision))"
   ]
  },
  {
   "cell_type": "code",
   "execution_count": null,
   "metadata": {},
   "outputs": [],
   "source": []
  }
 ],
 "metadata": {
  "kernelspec": {
   "display_name": "Python 3",
   "language": "python",
   "name": "python3"
  },
  "language_info": {
   "codemirror_mode": {
    "name": "ipython",
    "version": 3
   },
   "file_extension": ".py",
   "mimetype": "text/x-python",
   "name": "python",
   "nbconvert_exporter": "python",
   "pygments_lexer": "ipython3",
   "version": "3.6.5"
  }
 },
 "nbformat": 4,
 "nbformat_minor": 2
}
