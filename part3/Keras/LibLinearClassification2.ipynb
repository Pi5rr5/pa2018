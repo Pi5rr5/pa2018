{
 "cells": [
  {
   "cell_type": "code",
   "execution_count": 2,
   "metadata": {},
   "outputs": [],
   "source": [
    "from cffi import FFI\n",
    "import numpy as np"
   ]
  },
  {
   "cell_type": "code",
   "execution_count": 3,
   "metadata": {},
   "outputs": [],
   "source": [
    "ffi = FFI()\n",
    "C = ffi.dlopen(\"../../part2/Unity_dll/x64/Debug/Unity_dll.dll\")\n",
    "ffi.cdef(\"\"\"\n",
    "    float* InitWeight(int);\n",
    "    float Classify(float*, int, int, float*, int, int, bool);\n",
    "    float* TrainPerceptron(float*, int, int, float*, int, int, float*, int, int, float, int);\n",
    "\"\"\")\n",
    "\n",
    "def as_pointer(numpy_array):\n",
    "    return ffi.cast(\"float*\", numpy_array.__array_interface__['data'][0])"
   ]
  },
  {
   "cell_type": "code",
   "execution_count": 4,
   "metadata": {},
   "outputs": [],
   "source": [
    "# import data from csv\n",
    "data = np.genfromtxt('inputs.csv', delimiter=\",\", skip_header=1, dtype=float)\n",
    "# shuffle data set\n",
    "np.random.shuffle(data)\n",
    "# split inputs & outputs\n",
    "inputs = data[0:, 0:20].astype('float32')\n",
    "outputs = data[0:, 20:21].astype(int)\n",
    "# split train and test data set\n",
    "inputs_train = inputs[0:int(inputs.shape[0] * 0.8)]\n",
    "outputs_train = outputs[0:int(outputs.shape[0] * 0.8)]\n",
    "\n",
    "inputs_test = inputs[int(inputs.shape[0] * 0.8):inputs.shape[0]]\n",
    "outputs_test = outputs[int(outputs.shape[0] * 0.8):outputs.shape[0]]\n",
    "model = C.InitWeight(20)"
   ]
  },
  {
   "cell_type": "code",
   "execution_count": null,
   "metadata": {},
   "outputs": [],
   "source": [
    "model = C.TrainPerceptron(model, 1, 21,\n",
    "                          as_pointer(inputs_train), inputs_train.shape[0], inputs_train.shape[1],\n",
    "                          as_pointer(outputs_train), outputs_train.shape[0], outputs_train.shape[1],\n",
    "                          0.1, 1000)"
   ]
  },
  {
   "cell_type": "code",
   "execution_count": null,
   "metadata": {},
   "outputs": [],
   "source": [
    "precision = 0\n",
    "for i, val in enumerate(inputs_test):\n",
    "    res = C.Classify(model, 1, 21, as_pointer(inputs_test[i]), 1, 20, 1)\n",
    "    if round(res) == outputs_test[i]:\n",
    "        precision += 1\n",
    "print(\"precision after training = {:0.2f}%\".format((precision/inputs_test.shape[0])*100))"
   ]
  }
 ],
 "metadata": {
  "kernelspec": {
   "display_name": "Python 3",
   "language": "python",
   "name": "python3"
  },
  "language_info": {
   "codemirror_mode": {
    "name": "ipython",
    "version": 3
   },
   "file_extension": ".py",
   "mimetype": "text/x-python",
   "name": "python",
   "nbconvert_exporter": "python",
   "pygments_lexer": "ipython3",
   "version": "3.6.5"
  }
 },
 "nbformat": 4,
 "nbformat_minor": 2
}
