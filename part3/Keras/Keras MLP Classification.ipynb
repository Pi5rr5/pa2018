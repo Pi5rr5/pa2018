{
 "cells": [
  {
   "cell_type": "markdown",
   "metadata": {},
   "source": [
    "# щ（ﾟДﾟщ）"
   ]
  },
  {
   "cell_type": "code",
   "execution_count": 8,
   "metadata": {},
   "outputs": [],
   "source": [
    "import keras\n",
    "from keras.metrics import binary_accuracy\n",
    "from keras.models import Sequential\n",
    "from keras.layers import Dense, Dropout\n",
    "import numpy as np\n",
    "from keras.optimizers import sgd, rmsprop, adam\n",
    "from trainValTensorBoard import TrainValTensorBoard"
   ]
  },
  {
   "cell_type": "code",
   "execution_count": 9,
   "metadata": {},
   "outputs": [],
   "source": [
    "data = np.genfromtxt('inputs_keras.csv', delimiter=\",\", skip_header=1, dtype=float)\n",
    "np.random.shuffle(data)\n",
    "inputs = data[10:, 0:20].astype('float32')\n",
    "test_x = inputs[0:10]\n",
    "outputs = data[10:, 20:21].astype(int)\n",
    "test_y = outputs[0:10]"
   ]
  },
  {
   "cell_type": "code",
   "execution_count": 10,
   "metadata": {},
   "outputs": [],
   "source": [
    "model = Sequential()\n",
    "model.add(Dense(20, input_dim=20, activation='tanh'))\n",
    "model.add(Dense(1, activation='sigmoid'))\n",
    "model.compile(loss='binary_crossentropy', optimizer=adam(), metrics=[binary_accuracy])"
   ]
  },
  {
   "cell_type": "code",
   "execution_count": 11,
   "metadata": {},
   "outputs": [
    {
     "data": {
      "text/plain": [
       "<keras.callbacks.History at 0x1f5f2768978>"
      ]
     },
     "execution_count": 11,
     "metadata": {},
     "output_type": "execute_result"
    }
   ],
   "source": [
    "model.fit(inputs, outputs,\n",
    "          validation_split=0.2,\n",
    "          epochs=500,\n",
    "          batch_size=96,\n",
    "          verbose=0)"
   ]
  },
  {
   "cell_type": "code",
   "execution_count": 12,
   "metadata": {},
   "outputs": [
    {
     "name": "stdout",
     "output_type": "stream",
     "text": [
      "3158/3158 [==============================] - ETA:  - 0s 10us/step\n"
     ]
    }
   ],
   "source": [
    "score = model.evaluate(inputs, outputs, verbose=1, batch_size=96)"
   ]
  },
  {
   "cell_type": "code",
   "execution_count": 13,
   "metadata": {},
   "outputs": [
    {
     "name": "stdout",
     "output_type": "stream",
     "text": [
      "{0: 1581, 1: 1577}\n"
     ]
    }
   ],
   "source": [
    "unique, counts = np.unique(outputs, return_counts=True)\n",
    "train_repartition = dict(zip(unique, counts))\n",
    "print(train_repartition)"
   ]
  },
  {
   "cell_type": "code",
   "execution_count": 14,
   "metadata": {},
   "outputs": [
    {
     "name": "stdout",
     "output_type": "stream",
     "text": [
      "prediction: 0.0 || [0] :output\n",
      "prediction: 1.0 || [1] :output\n",
      "prediction: 0.0 || [0] :output\n",
      "prediction: 1.0 || [1] :output\n",
      "prediction: 1.0 || [1] :output\n",
      "prediction: 1.0 || [1] :output\n",
      "prediction: 0.0 || [0] :output\n",
      "prediction: 0.0 || [0] :output\n",
      "prediction: 0.0 || [0] :output\n",
      "prediction: 1.0 || [1] :output\n",
      "precision = 100.0%\n"
     ]
    }
   ],
   "source": [
    "predictions = model.predict(test_x)\n",
    "rounded = [round(x[0]) for x in predictions]\n",
    "precision = 0\n",
    "for j, i in enumerate(rounded):\n",
    "    if i == test_y[j]:\n",
    "        precision += 1\n",
    "    print(\"prediction: {} || {} :output\".format(i, test_y[j]))\n",
    "precision = precision/test_y.shape[0] * 100\n",
    "print(\"precision = {}%\".format(precision))"
   ]
  }
 ],
 "metadata": {
  "kernelspec": {
   "display_name": "Python 3",
   "language": "python",
   "name": "python3"
  },
  "language_info": {
   "codemirror_mode": {
    "name": "ipython",
    "version": 3
   },
   "file_extension": ".py",
   "mimetype": "text/x-python",
   "name": "python",
   "nbconvert_exporter": "python",
   "pygments_lexer": "ipython3",
   "version": "3.6.6"
  }
 },
 "nbformat": 4,
 "nbformat_minor": 2
}
